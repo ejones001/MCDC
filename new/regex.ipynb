{
 "cells": [
  {
   "cell_type": "code",
   "execution_count": 1,
   "metadata": {},
   "outputs": [],
   "source": [
    "import pandas as pd\n",
    "import re"
   ]
  },
  {
   "cell_type": "code",
   "execution_count": 3,
   "metadata": {},
   "outputs": [],
   "source": [
    "data = pd.read_csv('tidied_threaded_data_pull.csv')"
   ]
  },
  {
   "cell_type": "code",
   "execution_count": 61,
   "metadata": {},
   "outputs": [
    {
     "name": "stdout",
     "output_type": "stream",
     "text": [
      "{'Photographer': 'TAuch', 'topic': 'FracSand', 'sitespecific': 'Mine', 'siteowner': 'USSilica-Ottawa_', 'county': '', 'state': 'IL', 'partneraffiliation': 'LightHawk_Jun', 'date': 'e2016(2)'}\n",
      "{'Photographer': 'TAuch', 'topic': 'FracSand', 'sitespecific': 'Mine', 'siteowner': 'RosyMound-GrandHaven_', 'county': '', 'state': 'MI', 'partneraffiliation': 'Oc', 'date': 't2016(2)'}\n",
      "{'Photographer': 'TAuch', 'topic': 'FracSand', 'sitespecific': 'AbandonedMine', 'siteowner': 'ATIBlackDiamond-PreferredSands-Woodbury_', 'county': '', 'state': 'MN', 'partneraffiliation': 'No', 'date': 'v2015(1)'}\n"
     ]
    }
   ],
   "source": [
    "import re\n",
    "\n",
    "def parse_string(input_string):\n",
    "    pattern = (\n",
    "        r'(?P<Photographer>[\\w]+)_'                         # Photographer\n",
    "        r'(?P<topic>[\\w]+)-'                                # Topic\n",
    "        r'(?P<sitespecific>[\\w]+)-'                         # Site specific\n",
    "        r'(?P<siteowner>[\\w]+(?:-[\\w-]+)*)'                # Site owner (allowing multiple parts with hyphens)\n",
    "        r'(?:-(?P<county>[\\w-]+))?'                         # County (optional)\n",
    "        r'(?P<state>[A-Z]{2})_'                            # State\n",
    "        r'(?P<partneraffiliation>[\\w-]*)?'                  # Partner affiliation (optional)\n",
    "        r'(?P<date>[a-zA-Z]+\\d{4}\\(\\d+\\))'                 # Date with optional count in parentheses\n",
    "    )\n",
    "    match = re.match(pattern, input_string)\n",
    "    if match:\n",
    "        return {\n",
    "            'Photographer': match.group('Photographer'),\n",
    "            'topic': match.group('topic'),\n",
    "            'sitespecific': match.group('sitespecific'),\n",
    "            'siteowner': match.group('siteowner'),\n",
    "            'county': match.group('county') if match.group('county') else '',\n",
    "            'state': match.group('state'),\n",
    "            'partneraffiliation': match.group('partneraffiliation') if match.group('partneraffiliation') else '',\n",
    "            'date': match.group('date')\n",
    "        }\n",
    "    else:\n",
    "        print(f\"String '{input_string}' does not match the expected pattern.\")\n",
    "        return None\n",
    "\n",
    "# Example usage\n",
    "input_strings = [\n",
    "    'TAuch_FracSand-Mine-USSilica-Ottawa_IL_LightHawk_June2016(2)',\n",
    "    'TAuch_FracSand-Mine-RosyMound-GrandHaven_MI_Oct2016(2)',\n",
    "    'TAuch_FracSand-AbandonedMine-ATIBlackDiamond-PreferredSands-Woodbury_MN_Nov2015(1)'\n",
    "]\n",
    "\n",
    "for input_string in input_strings:\n",
    "    parsed_data = parse_string(input_string)\n",
    "    if parsed_data:\n",
    "        print(parsed_data)\n",
    "    else:\n",
    "        print(f\"String '{input_string}' does not match the expected pattern.\")\n"
   ]
  },
  {
   "cell_type": "code",
   "execution_count": 5,
   "metadata": {},
   "outputs": [
    {
     "data": {
      "text/plain": [
       "['TAuch_FracSand-Mine-RosyMound-GrandHaven_MI_Oct2016(2)',\n",
       " 'TAuch_FracSand-Mine-RosyMound-GrandHaven_MI_Oct2016(1)',\n",
       " 'TAuch_FracSand-Mine-Unimin-Ottawa-MN_Aug2017',\n",
       " 'TAuch_FracSand-Mine-Unimin-Kasota-MN_Aug2017',\n",
       " 'TAuch_FracSand-AbandonedMine-ATIBlackDiamond-PreferredSands-Woodbury-MN_Nov2015(1)',\n",
       " 'TAuch_FracSand-Mine-MartinMarietta-Poteet-TX_Nov2019(8)',\n",
       " 'TAuch_FracSand-Mine-MartinMarietta-Poteet-TX_Nov2019(7)',\n",
       " 'TAuch_FracSand-Mine-MartinMarietta-Poteet-TX_Nov2019(4)',\n",
       " 'TAuch_FracSand-Mine-MartinMarietta-Poteet-TX_Nov2019(3)',\n",
       " 'TAuch_FracSand-Mine-WisconsinProppants-Curran_WI_June2019',\n",
       " 'TAuch_FracSand-Mine-Dovre-WI_Fall2013(3)']"
      ]
     },
     "execution_count": 5,
     "metadata": {},
     "output_type": "execute_result"
    }
   ],
   "source": [
    "list(data.loc[25:35, 'Title'])"
   ]
  },
  {
   "cell_type": "markdown",
   "metadata": {},
   "source": [
    "my plan is to try to use these as testers and write smth using regex to separate out the parts we need"
   ]
  }
 ],
 "metadata": {
  "kernelspec": {
   "display_name": "Python 3",
   "language": "python",
   "name": "python3"
  },
  "language_info": {
   "codemirror_mode": {
    "name": "ipython",
    "version": 3
   },
   "file_extension": ".py",
   "mimetype": "text/x-python",
   "name": "python",
   "nbconvert_exporter": "python",
   "pygments_lexer": "ipython3",
   "version": "3.12.3"
  }
 },
 "nbformat": 4,
 "nbformat_minor": 2
}
